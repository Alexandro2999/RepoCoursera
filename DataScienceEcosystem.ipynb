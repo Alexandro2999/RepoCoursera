{
  "metadata": {
    "kernelspec": {
      "name": "python",
      "display_name": "Python (Pyodide)",
      "language": "python"
    },
    "language_info": {
      "codemirror_mode": {
        "name": "python",
        "version": 3
      },
      "file_extension": ".py",
      "mimetype": "text/x-python",
      "name": "python",
      "nbconvert_exporter": "python",
      "pygments_lexer": "ipython3",
      "version": "3.8"
    }
  },
  "nbformat_minor": 4,
  "nbformat": 4,
  "cells": [
    {
      "cell_type": "markdown",
      "source": "# Data Science Tools and Ecosystem",
      "metadata": {}
    },
    {
      "cell_type": "markdown",
      "source": "In this notebook, Data Science Tools and Ecosystem are summarized.",
      "metadata": {}
    },
    {
      "cell_type": "markdown",
      "source": "Some of the popular languages that Data Scientists use are:\n1. Python\n2. R\n3. SQL\n4. Java\n5. Scala\n6. Julia\n7. MATLAB\n8. SAS",
      "metadata": {}
    },
    {
      "cell_type": "markdown",
      "source": "Some of the commonly used libraries used by Data Scientists include:\n1. Pandas\n2. Numpy\n3. Matplotlib\n4. Seaborn\n5. Scikit-learn\n6. TensorFlow\n7. Keras\n8. ggplot2\n9. dplyr\n10. caret\n11. Apache Spark (PySpark)",
      "metadata": {}
    },
    {
      "cell_type": "markdown",
      "source": "| Data Science Tools |\n|--------------------|\n| Jupyter Notebook |\n| RStudio |\n| VS Code |",
      "metadata": {}
    },
    {
      "cell_type": "markdown",
      "source": "Here are some examples of arithmetic expressions:\n\n* **Addition:** 2 + 2 = 4\n* **Subtraction:** 10 - 5 = 5\n* **Multiplication:** 3 * 4 = 12\n* **Division:** 15 / 3 = 5\n* **Exponentiation:** 2 ** 3 = 8  (or 2^3 = 8)\n* **Modulo (remainder):** 17 % 5 = 2\n* **Complex Expression:** (10 + 5) * 2 - 3 = 27",
      "metadata": {}
    },
    {
      "cell_type": "markdown",
      "source": "this a simple arithmetic expression to mutiply then add integers\n(3*4)+5.",
      "metadata": {}
    },
    {
      "cell_type": "code",
      "source": "# This will convert 200 minutes to hours by dividing by 60\nminutes = 200\nhours = minutes / 60\nprint('hours:', hours)",
      "metadata": {
        "trusted": true
      },
      "outputs": [
        {
          "name": "stdout",
          "text": "hours: 3.3333333333333335\n",
          "output_type": "stream"
        }
      ],
      "execution_count": 7
    },
    {
      "cell_type": "markdown",
      "source": "### Objectives:\n\n- List popular languages for Data Science\n- Understand data manipulation techniques\n- Learn data visualization methods\n- Explore machine learning algorithms\n- Gain insights from data analysis",
      "metadata": {}
    },
    {
      "cell_type": "markdown",
      "source": "## Author\n\nWPJ Alexandro Sianipar",
      "metadata": {}
    },
    {
      "cell_type": "code",
      "source": "",
      "metadata": {
        "trusted": true
      },
      "outputs": [],
      "execution_count": null
    }
  ]
}